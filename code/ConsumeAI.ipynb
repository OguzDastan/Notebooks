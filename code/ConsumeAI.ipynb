{
 "cells": [
  {
   "cell_type": "code",
   "execution_count": null,
   "metadata": {},
   "outputs": [],
   "source": [
    "from azureml.core import Workspace\n",
    "\n",
    "ws = Workspace.from_config('./config/config.json')\n",
    "\n",
    "service = ws.webservices['clustermodel-service']\n",
    "\n",
    "import json\n",
    "\n",
    "x_new = {\n",
    "    'Temp_Id': 123123123,\n",
    "    'Date_Id': '2022-05-05 00:02:00',\n",
    "    'Location_Id': 2069,\n",
    "    'CoolingSource_Id': 0,\n",
    "    'Temp_Out': 18,\n",
    "    'Temp_Floor': 12,\n",
    "    'Temp_Room': 21,\n",
    "    'FanSpeed': 12,\n",
    "    'ControllerStateNumber': 10.2\n",
    "}\n",
    "\n",
    "json_data = json.dumps({\"data\": x_new})\n",
    "\n",
    "response = service.run(input_data = json_data)\n",
    "\n",
    "predicted_classes = json.loads(response)\n",
    "\n",
    "print(predicted_classes)"
   ]
  },
  {
   "cell_type": "code",
   "execution_count": 1,
   "metadata": {},
   "outputs": [
    {
     "name": "stdout",
     "output_type": "stream",
     "text": [
      "Accessing the workspace....\n",
      "Accessing the service end-points\n"
     ]
    },
    {
     "ename": "KeyError",
     "evalue": "'CLA01'",
     "output_type": "error",
     "traceback": [
      "\u001b[1;31m---------------------------------------------------------------------------\u001b[0m",
      "\u001b[1;31mKeyError\u001b[0m                                  Traceback (most recent call last)",
      "\u001b[1;32m~\\AppData\\Local\\Temp\\ipykernel_21112\\79442997.py\u001b[0m in \u001b[0;36m<module>\u001b[1;34m\u001b[0m\n\u001b[0;32m     15\u001b[0m \u001b[1;31m# Access the service end points\u001b[0m\u001b[1;33m\u001b[0m\u001b[1;33m\u001b[0m\u001b[1;33m\u001b[0m\u001b[0m\n\u001b[0;32m     16\u001b[0m \u001b[0mprint\u001b[0m\u001b[1;33m(\u001b[0m\u001b[1;34m\"Accessing the service end-points\"\u001b[0m\u001b[1;33m)\u001b[0m\u001b[1;33m\u001b[0m\u001b[1;33m\u001b[0m\u001b[0m\n\u001b[1;32m---> 17\u001b[1;33m \u001b[0mservice\u001b[0m \u001b[1;33m=\u001b[0m \u001b[0mws\u001b[0m\u001b[1;33m.\u001b[0m\u001b[0mwebservices\u001b[0m\u001b[1;33m[\u001b[0m\u001b[1;34m'CLA01'\u001b[0m\u001b[1;33m]\u001b[0m\u001b[1;33m\u001b[0m\u001b[1;33m\u001b[0m\u001b[0m\n\u001b[0m\u001b[0;32m     18\u001b[0m \u001b[1;33m\u001b[0m\u001b[0m\n\u001b[0;32m     19\u001b[0m \u001b[1;33m\u001b[0m\u001b[0m\n",
      "\u001b[1;31mKeyError\u001b[0m: 'CLA01'"
     ]
    }
   ],
   "source": [
    "# -------------------------------------------------------------\n",
    "# Consume the service end point using workspace access.\n",
    "# -------------------------------------------------------------\n",
    "\n",
    "# Import the Azure ML classes\n",
    "from azureml.core import Workspace\n",
    "\n",
    "# Access the workspace using config file\n",
    "print(\"Accessing the workspace....\")\n",
    "ws = Workspace.get(name=\"AzureML02WP\",\n",
    "               subscription_id='5e20a2e2-7522-4cb5-957f-ce42d9c2abfd',\n",
    "               resource_group='AzureML02')\n",
    "\n",
    "\n",
    "# Access the service end points\n",
    "print(\"Accessing the service end-points\")\n",
    "service = ws.webservices['CLA01']\n",
    "\n",
    "\n",
    "# Prepare the input data\n",
    "import json\n",
    "\n",
    "x_new = {'age':[46],\n",
    "         'wc':['Private'],\n",
    "         'education':['Masters'],\n",
    "         'marital status':['Married'],\n",
    "         'race':['White'],\n",
    "         'gender':['Male'],\n",
    "         'hours per week':[60]}\n",
    "\n",
    "# Convert the dictionary to a serializable list in json\n",
    "json_data = json.dumps({\"data\": x_new})\n",
    "\n",
    "# Call the web service\n",
    "print(\"Calling the service...\")\n",
    "response = service.run(input_data = json_data)\n",
    "\n",
    "# Collect and convert the response in local variable\n",
    "print(\"Printing the predicted class...\")\n",
    "predicted_classes = json.loads(response)\n",
    "\n",
    "print('\\n', predicted_classes)\n",
    "\n",
    "\n",
    "\n",
    "\n",
    "   \n",
    "    \n",
    "    "
   ]
  },
  {
   "cell_type": "code",
   "execution_count": 9,
   "metadata": {},
   "outputs": [
    {
     "name": "stdout",
     "output_type": "stream",
     "text": [
      "b'\"test is {\\'Prediction\\': 1.2}\"'\n"
     ]
    }
   ],
   "source": [
    "import urllib.request\n",
    "import json\n",
    "import os\n",
    "import ssl\n",
    "\n",
    "def allowSelfSignedHttps(allowed):\n",
    "    if allowed and not os.environ.get('PYTHONHTTPSVERIFY', '') and getattr(ssl, '_create_unverified_context', None):\n",
    "        ssl._create_default_https_context = ssl._create_unverified_context\n",
    "\n",
    "allowSelfSignedHttps(True) \n",
    "x = 1.2\n",
    "\n",
    "data = {\"Prediction\": x}\n",
    "\n",
    "body = str.encode(json.dumps(data))\n",
    "\n",
    "url = 'http://20.126.190.128:80/api/v1/service/cka-service-05/score'\n",
    "api_key = 'yeGaRV2F5YwDsxzeTBFkpfoQcTKTXT97' # Replace this with the API key for the web\n",
    "\n",
    "headers = {'Content-Type':'application/json', 'Authorization':('Bearer '+ api_key)}\n",
    "\n",
    "req = urllib.request.Request(url, body, headers)\n",
    "\n",
    "try:\n",
    "    response = urllib.request.urlopen(req)\n",
    "\n",
    "    result = response.read()\n",
    "    print(result)\n",
    "except urllib.error.HTTPError as error:\n",
    "    print(\"The request failed with status code: \" + str(error.code))\n",
    "\n",
    "    print(error.info())\n",
    "    print(error.read().decode(\"utf8\", 'ignore'))\n"
   ]
  }
 ],
 "metadata": {
  "interpreter": {
   "hash": "173f3282cf63b63e511481779b17cb90652ab3fef934cc002e06f64508e27aae"
  },
  "kernelspec": {
   "display_name": "Python 3.7.9 64-bit",
   "language": "python",
   "name": "python3"
  },
  "language_info": {
   "codemirror_mode": {
    "name": "ipython",
    "version": 3
   },
   "file_extension": ".py",
   "mimetype": "text/x-python",
   "name": "python",
   "nbconvert_exporter": "python",
   "pygments_lexer": "ipython3",
   "version": "3.7.9"
  },
  "orig_nbformat": 4
 },
 "nbformat": 4,
 "nbformat_minor": 2
}
