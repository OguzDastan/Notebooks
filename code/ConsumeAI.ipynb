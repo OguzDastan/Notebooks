{
 "cells": [
  {
   "cell_type": "code",
   "execution_count": null,
   "metadata": {},
   "outputs": [],
   "source": [
    "from azureml.core import Workspace\n",
    "\n",
    "ws = Workspace.from_config('./config/config.json')\n",
    "\n",
    "service = ws.webservices['clustermodel-service']\n",
    "\n",
    "import json\n",
    "\n",
    "x_new = {\n",
    "    'Temp_Id': 123123123,\n",
    "    'Date_Id': '2022-05-05 00:02:00',\n",
    "    'Location_Id': 2069,\n",
    "    'CoolingSource_Id': 0,\n",
    "    'Temp_Out': 18,\n",
    "    'Temp_Floor': 12,\n",
    "    'Temp_Room': 21,\n",
    "    'FanSpeed': 12,\n",
    "    'ControllerStateNumber': 10.2\n",
    "}\n",
    "\n",
    "json_data = json.dumps({\"data\": x_new})\n",
    "\n",
    "response = service.run(input_data = json_data)\n",
    "\n",
    "predicted_classes = json.loads(response)\n",
    "\n",
    "print(predicted_classes)"
   ]
  },
  {
   "cell_type": "code",
   "execution_count": 2,
   "metadata": {},
   "outputs": [
    {
     "data": {
      "text/plain": [
       "pandas.core.frame.DataFrame"
      ]
     },
     "execution_count": 2,
     "metadata": {},
     "output_type": "execute_result"
    }
   ],
   "source": []
  }
 ],
 "metadata": {
  "interpreter": {
   "hash": "173f3282cf63b63e511481779b17cb90652ab3fef934cc002e06f64508e27aae"
  },
  "kernelspec": {
   "display_name": "Python 3.7.9 64-bit",
   "language": "python",
   "name": "python3"
  },
  "language_info": {
   "codemirror_mode": {
    "name": "ipython",
    "version": 3
   },
   "file_extension": ".py",
   "mimetype": "text/x-python",
   "name": "python",
   "nbconvert_exporter": "python",
   "pygments_lexer": "ipython3",
   "version": "3.7.9"
  },
  "orig_nbformat": 4
 },
 "nbformat": 4,
 "nbformat_minor": 2
}
